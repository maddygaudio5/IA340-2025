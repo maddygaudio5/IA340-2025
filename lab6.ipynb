{
 "cells": [
  {
   "cell_type": "markdown",
   "id": "e653981f-595b-4d0c-a706-1ddfd4d4635b",
   "metadata": {},
   "source": [
    "# lab6"
   ]
  },
  {
   "cell_type": "code",
   "execution_count": 10,
   "id": "0561bd33-daf4-4155-b36b-6dbd7ea6b5e6",
   "metadata": {},
   "outputs": [],
   "source": [
    "import boto3\n",
    "from botocore.exceptions import ClientError\n",
    "import json\n",
    "\n",
    "def get_secret(secret_name):\n",
    "    region_name = \"us-east-1\"\n",
    "\n",
    "    # Create a Secrets Manager client\n",
    "    session = boto3.session.Session()\n",
    "    client = session.client(\n",
    "        service_name='secretsmanager',\n",
    "        region_name=region_name\n",
    "    )\n",
    "\n",
    "    try:\n",
    "        get_secret_value_response = client.get_secret_value(\n",
    "            SecretId=secret_name\n",
    "        )\n",
    "    except ClientError as e:\n",
    "        raise e\n",
    "\n",
    "    secret = get_secret_value_response['SecretString']\n",
    "    \n",
    "    return json.loads(secret)"
   ]
  },
  {
   "cell_type": "code",
   "execution_count": 11,
   "id": "f1ede033-514a-42e3-b48a-377f111b8f6c",
   "metadata": {},
   "outputs": [],
   "source": [
    "import psycopg2\n",
    "\n",
    "conn = psycopg2.connect(host=get_secret('postgresql')['host'],\n",
    "                      user=get_secret('postgresql')['username'],\n",
    "                      password = get_secret('postgresql')['password'],\n",
    "                      dbname=get_secret('postgresql')['engine'])\n",
    "\n",
    "cur = conn.cursor()"
   ]
  },
  {
   "attachments": {},
   "cell_type": "markdown",
   "id": "e06e772b-9c2f-49c4-a6d5-8c655176e119",
   "metadata": {},
   "source": [
    "## Q1 – Population Growth Rate"
   ]
  },
  {
   "cell_type": "code",
   "execution_count": 12,
   "id": "ab3c9640-dff3-4c20-8dfe-d24431e1b18e",
   "metadata": {},
   "outputs": [],
   "source": [
    "q1_sql = \"\"\"\n",
    "SELECT\n",
    "    year,\n",
    "    pop::numeric AS population,\n",
    "    ROUND(\n",
    "        ((pop::numeric - LAG(pop::numeric) OVER (ORDER BY year)) \n",
    "         / LAG(pop::numeric) OVER (ORDER BY year)) * 100,\n",
    "        2\n",
    "    ) AS yoy_growth_percent\n",
    "FROM population\n",
    "WHERE fips = '06'\n",
    "ORDER BY year;\n",
    "\n",
    "\n",
    "\"\"\""
   ]
  },
  {
   "cell_type": "code",
   "execution_count": 13,
   "id": "8f81589c-cba4-4054-842c-3aa78babbfb1",
   "metadata": {},
   "outputs": [
    {
     "name": "stderr",
     "output_type": "stream",
     "text": [
      "/tmp/ipykernel_7366/2656640038.py:3: UserWarning: pandas only supports SQLAlchemy connectable (engine/connection) or database string URI or sqlite3 DBAPI2 connection. Other DBAPI2 objects are not tested. Please consider using SQLAlchemy.\n",
      "  q1_df = pd.read_sql(q1_sql, con=conn)\n"
     ]
    },
    {
     "data": {
      "text/html": [
       "<div>\n",
       "<style scoped>\n",
       "    .dataframe tbody tr th:only-of-type {\n",
       "        vertical-align: middle;\n",
       "    }\n",
       "\n",
       "    .dataframe tbody tr th {\n",
       "        vertical-align: top;\n",
       "    }\n",
       "\n",
       "    .dataframe thead th {\n",
       "        text-align: right;\n",
       "    }\n",
       "</style>\n",
       "<table border=\"1\" class=\"dataframe\">\n",
       "  <thead>\n",
       "    <tr style=\"text-align: right;\">\n",
       "      <th></th>\n",
       "      <th>year</th>\n",
       "      <th>population</th>\n",
       "      <th>yoy_growth_percent</th>\n",
       "    </tr>\n",
       "  </thead>\n",
       "  <tbody>\n",
       "    <tr>\n",
       "      <th>0</th>\n",
       "      <td>2005</td>\n",
       "      <td>35278768.0</td>\n",
       "      <td>NaN</td>\n",
       "    </tr>\n",
       "    <tr>\n",
       "      <th>1</th>\n",
       "      <td>2006</td>\n",
       "      <td>36457549.0</td>\n",
       "      <td>3.34</td>\n",
       "    </tr>\n",
       "    <tr>\n",
       "      <th>2</th>\n",
       "      <td>2007</td>\n",
       "      <td>36553215.0</td>\n",
       "      <td>0.26</td>\n",
       "    </tr>\n",
       "    <tr>\n",
       "      <th>3</th>\n",
       "      <td>2008</td>\n",
       "      <td>36756666.0</td>\n",
       "      <td>0.56</td>\n",
       "    </tr>\n",
       "    <tr>\n",
       "      <th>4</th>\n",
       "      <td>2009</td>\n",
       "      <td>36961664.0</td>\n",
       "      <td>0.56</td>\n",
       "    </tr>\n",
       "  </tbody>\n",
       "</table>\n",
       "</div>"
      ],
      "text/plain": [
       "   year  population  yoy_growth_percent\n",
       "0  2005  35278768.0                 NaN\n",
       "1  2006  36457549.0                3.34\n",
       "2  2007  36553215.0                0.26\n",
       "3  2008  36756666.0                0.56\n",
       "4  2009  36961664.0                0.56"
      ]
     },
     "execution_count": 13,
     "metadata": {},
     "output_type": "execute_result"
    }
   ],
   "source": [
    "import pandas as pd\n",
    "\n",
    "q1_df = pd.read_sql(q1_sql, con=conn)\n",
    "q1_df.head() #show the top 5 rows"
   ]
  },
  {
   "cell_type": "code",
   "execution_count": 14,
   "id": "4509b835-00d6-4452-948b-913dcb424326",
   "metadata": {},
   "outputs": [
    {
     "name": "stdout",
     "output_type": "stream",
     "text": [
      "Requirement already satisfied: pip in /home/ec2-user/anaconda3/envs/python3/lib/python3.10/site-packages (25.2)\n",
      "Requirement already satisfied: setuptools in /home/ec2-user/anaconda3/envs/python3/lib/python3.10/site-packages (80.9.0)\n",
      "Requirement already satisfied: wheel in /home/ec2-user/anaconda3/envs/python3/lib/python3.10/site-packages (0.45.1)\n",
      "Note: you may need to restart the kernel to use updated packages.\n"
     ]
    }
   ],
   "source": [
    "pip install -U pip setuptools wheel"
   ]
  },
  {
   "cell_type": "code",
   "execution_count": 15,
   "id": "9abf72b3-890f-40a8-a690-f25b07d84240",
   "metadata": {},
   "outputs": [
    {
     "name": "stdout",
     "output_type": "stream",
     "text": [
      "Collecting tiktoken>=0.7.0\n",
      "  Downloading tiktoken-0.11.0-cp310-cp310-manylinux_2_17_x86_64.manylinux2014_x86_64.whl.metadata (6.7 kB)\n",
      "Requirement already satisfied: regex>=2022.1.18 in /home/ec2-user/anaconda3/envs/python3/lib/python3.10/site-packages (from tiktoken>=0.7.0) (2025.9.18)\n",
      "Requirement already satisfied: requests>=2.26.0 in /home/ec2-user/anaconda3/envs/python3/lib/python3.10/site-packages (from tiktoken>=0.7.0) (2.32.5)\n",
      "Requirement already satisfied: charset_normalizer<4,>=2 in /home/ec2-user/anaconda3/envs/python3/lib/python3.10/site-packages (from requests>=2.26.0->tiktoken>=0.7.0) (3.4.3)\n",
      "Requirement already satisfied: idna<4,>=2.5 in /home/ec2-user/anaconda3/envs/python3/lib/python3.10/site-packages (from requests>=2.26.0->tiktoken>=0.7.0) (3.10)\n",
      "Requirement already satisfied: urllib3<3,>=1.21.1 in /home/ec2-user/anaconda3/envs/python3/lib/python3.10/site-packages (from requests>=2.26.0->tiktoken>=0.7.0) (2.5.0)\n",
      "Requirement already satisfied: certifi>=2017.4.17 in /home/ec2-user/anaconda3/envs/python3/lib/python3.10/site-packages (from requests>=2.26.0->tiktoken>=0.7.0) (2025.8.3)\n",
      "Downloading tiktoken-0.11.0-cp310-cp310-manylinux_2_17_x86_64.manylinux2014_x86_64.whl (1.2 MB)\n",
      "\u001b[2K   \u001b[90m━━━━━━━━━━━━━━━━━━━━━━━━━━━━━━━━━━━━━━━━\u001b[0m \u001b[32m1.2/1.2 MB\u001b[0m \u001b[31m36.2 MB/s\u001b[0m  \u001b[33m0:00:00\u001b[0m\n",
      "\u001b[?25hInstalling collected packages: tiktoken\n",
      "Successfully installed tiktoken-0.11.0\n",
      "Note: you may need to restart the kernel to use updated packages.\n"
     ]
    }
   ],
   "source": [
    "pip install --only-binary=:all: \"tiktoken>=0.7.0\""
   ]
  },
  {
   "cell_type": "code",
   "execution_count": 16,
   "id": "34722008-c68e-4788-a1c8-eb88ac54a578",
   "metadata": {
    "scrolled": true
   },
   "outputs": [
    {
     "name": "stdout",
     "output_type": "stream",
     "text": [
      "\u001b[31mERROR: pip's dependency resolver does not currently take into account all the packages that are installed. This behaviour is the source of the following dependency conflicts.\n",
      "safety-schemas 0.0.14 requires pydantic<2.10.0,>=2.6.0, but you have pydantic 2.12.0 which is incompatible.\n",
      "sparkmagic 0.21.0 requires pandas<2.0.0,>=0.17.1, but you have pandas 2.2.3 which is incompatible.\u001b[0m\u001b[31m\n",
      "\u001b[0mNote: you may need to restart the kernel to use updated packages.\n"
     ]
    }
   ],
   "source": [
    "pip install \"jupyter-ai-magics[all]\" -q"
   ]
  },
  {
   "cell_type": "code",
   "execution_count": 18,
   "id": "0d9a27a2-28e4-488a-baf8-45fc09fa719b",
   "metadata": {},
   "outputs": [],
   "source": [
    "import os\n",
    "os.environ[\"OPENAI_API_KEY\"] = get_secret('openai')['api_key']"
   ]
  },
  {
   "cell_type": "code",
   "execution_count": 19,
   "id": "821e3cbd-11c1-45b1-ae17-a0bbace66147",
   "metadata": {},
   "outputs": [],
   "source": [
    "%load_ext jupyter_ai_magics"
   ]
  },
  {
   "cell_type": "code",
   "execution_count": 20,
   "id": "a5b469c7-b0d0-4f7c-985f-0215ec038f5c",
   "metadata": {},
   "outputs": [
    {
     "data": {
      "text/html": [
       "AI generated code inserted below &#11015;&#65039;"
      ],
      "text/plain": [
       "<IPython.core.display.HTML object>"
      ]
     },
     "execution_count": 20,
     "metadata": {
      "text/html": {
       "jupyter_ai": {
        "model_id": "gpt-4",
        "provider_id": "openai-chat"
       }
      }
     },
     "output_type": "execute_result"
    }
   ],
   "source": [
    "%%ai gpt4 -f code\n",
    "use data in {q1_df}, create a line chart with the growth rate. \n",
    "        Chart must include the CA state name in the title"
   ]
  },
  {
   "cell_type": "code",
   "execution_count": 21,
   "id": "94ffd267-cf00-4aa5-94d2-3f6689dc4e78",
   "metadata": {},
   "outputs": [
    {
     "data": {
      "image/png": "[encoded data removed]",
      "text/plain": [
       "<Figure size 640x480 with 1 Axes>"
      ]
     },
     "metadata": {},
     "output_type": "display_data"
    }
   ],
   "source": [
    "import matplotlib.pyplot as plt\n",
    "\n",
    "# Data\n",
    "years = [2005, 2006, 2007, 2008, 2009, 2010, 2011, 2012, 2013, 2014, 2015, 2016, 2017, 2018, 2019]\n",
    "yoy_growth_percent = [None, 3.34, 0.26, 0.56, 0.56, 1.05, 0.92, 0.93, 0.77, 1.23, 0.88, 0.27, 0.73, 0.05, -0.11]\n",
    "\n",
    "# Create figure and axis\n",
    "fig, ax = plt.subplots()\n",
    "\n",
    "# Plot data\n",
    "ax.plot(years, yoy_growth_percent, marker='o')\n",
    "\n",
    "# Set title and labels\n",
    "ax.set_title('CA Year-on-Year Population Growth (%)')\n",
    "ax.set_xlabel('Year')\n",
    "ax.set_ylabel('Year-on-Year Growth (%)')\n",
    "\n",
    "# Show plot\n",
    "plt.show()"
   ]
  },
  {
   "cell_type": "markdown",
   "id": "cb55aee0-80b4-4871-9795-bcc2e67d055d",
   "metadata": {},
   "source": [
    "The pop growth rate dropped from 2006 to 2007, additionally it peaked from 2013 to 2014. Trends are unsteady and show increases and decreases thorughout the years, yet nothing dramatic."
   ]
  },
  {
   "cell_type": "markdown",
   "id": "642cb11d-ae3d-42f3-8cb8-91e6db625ed9",
   "metadata": {},
   "source": [
    "## Q2 - Income and Population Relationship"
   ]
  },
  {
   "cell_type": "code",
   "execution_count": 22,
   "id": "42b79f7c-b450-4769-a763-af971b619a63",
   "metadata": {},
   "outputs": [],
   "source": [
    "q2_sql = \"\"\"\n",
    "SELECT \n",
    "    n.name AS state,\n",
    "    i.year,\n",
    "    p.pop AS population,\n",
    "    i.income\n",
    "FROM income i\n",
    "JOIN population p\n",
    "    ON i.fips = p.fips \n",
    "   AND i.year = p.year\n",
    "JOIN name n\n",
    "    ON i.fips = n.fips\n",
    "WHERE n.name = 'California'\n",
    "  AND n.fips = '06'\n",
    "ORDER BY i.year ASC;\n",
    "\n",
    "\"\"\""
   ]
  },
  {
   "cell_type": "code",
   "execution_count": 23,
   "id": "c9a02c28-c54a-408e-a689-87fafef1b183",
   "metadata": {},
   "outputs": [
    {
     "name": "stderr",
     "output_type": "stream",
     "text": [
      "/tmp/ipykernel_7366/3338859629.py:3: UserWarning: pandas only supports SQLAlchemy connectable (engine/connection) or database string URI or sqlite3 DBAPI2 connection. Other DBAPI2 objects are not tested. Please consider using SQLAlchemy.\n",
      "  q2_df = pd.read_sql(q2_sql, con=conn)\n"
     ]
    },
    {
     "data": {
      "text/html": [
       "<div>\n",
       "<style scoped>\n",
       "    .dataframe tbody tr th:only-of-type {\n",
       "        vertical-align: middle;\n",
       "    }\n",
       "\n",
       "    .dataframe tbody tr th {\n",
       "        vertical-align: top;\n",
       "    }\n",
       "\n",
       "    .dataframe thead th {\n",
       "        text-align: right;\n",
       "    }\n",
       "</style>\n",
       "<table border=\"1\" class=\"dataframe\">\n",
       "  <thead>\n",
       "    <tr style=\"text-align: right;\">\n",
       "      <th></th>\n",
       "      <th>state</th>\n",
       "      <th>year</th>\n",
       "      <th>population</th>\n",
       "      <th>income</th>\n",
       "    </tr>\n",
       "  </thead>\n",
       "  <tbody>\n",
       "    <tr>\n",
       "      <th>0</th>\n",
       "      <td>California</td>\n",
       "      <td>2005</td>\n",
       "      <td>35278768</td>\n",
       "      <td>53629</td>\n",
       "    </tr>\n",
       "    <tr>\n",
       "      <th>1</th>\n",
       "      <td>California</td>\n",
       "      <td>2006</td>\n",
       "      <td>36457549</td>\n",
       "      <td>56645</td>\n",
       "    </tr>\n",
       "    <tr>\n",
       "      <th>2</th>\n",
       "      <td>California</td>\n",
       "      <td>2007</td>\n",
       "      <td>36553215</td>\n",
       "      <td>59948</td>\n",
       "    </tr>\n",
       "    <tr>\n",
       "      <th>3</th>\n",
       "      <td>California</td>\n",
       "      <td>2008</td>\n",
       "      <td>36756666</td>\n",
       "      <td>61021</td>\n",
       "    </tr>\n",
       "    <tr>\n",
       "      <th>4</th>\n",
       "      <td>California</td>\n",
       "      <td>2009</td>\n",
       "      <td>36961664</td>\n",
       "      <td>58931</td>\n",
       "    </tr>\n",
       "  </tbody>\n",
       "</table>\n",
       "</div>"
      ],
      "text/plain": [
       "        state  year  population  income\n",
       "0  California  2005    35278768   53629\n",
       "1  California  2006    36457549   56645\n",
       "2  California  2007    36553215   59948\n",
       "3  California  2008    36756666   61021\n",
       "4  California  2009    36961664   58931"
      ]
     },
     "execution_count": 23,
     "metadata": {},
     "output_type": "execute_result"
    }
   ],
   "source": [
    "import pandas as pd\n",
    "\n",
    "q2_df = pd.read_sql(q2_sql, con=conn)\n",
    "q2_df.head() #show the top 5 rows"
   ]
  },
  {
   "cell_type": "code",
   "execution_count": 24,
   "id": "a907675e-b349-421b-96d6-26111f3d2567",
   "metadata": {},
   "outputs": [
    {
     "data": {
      "text/html": [
       "AI generated code inserted below &#11015;&#65039;"
      ],
      "text/plain": [
       "<IPython.core.display.HTML object>"
      ]
     },
     "execution_count": 24,
     "metadata": {
      "text/html": {
       "jupyter_ai": {
        "model_id": "gpt-4",
        "provider_id": "openai-chat"
       }
      }
     },
     "output_type": "execute_result"
    }
   ],
   "source": [
    "%%ai gpt4 -f code\n",
    "use data in {q2_df}, create a dual-axis chart.\n",
    "    X-axis = year\n",
    "    Left Y-axis = population (line)\n",
    "    Right Y-axis = median household income (bar or line, different color)\n",
    "    Chart must include the CA state name in the title"
   ]
  },
  {
   "cell_type": "code",
   "execution_count": 25,
   "id": "a9503316-f9d0-423f-9d63-eadb7bff8998",
   "metadata": {},
   "outputs": [
    {
     "data": {
      "image/png": "[encoded data removed]",
      "text/plain": [
       "<Figure size 640x480 with 2 Axes>"
      ]
     },
     "metadata": {},
     "output_type": "display_data"
    }
   ],
   "source": [
    "import matplotlib.pyplot as plt\n",
    "\n",
    "# Data\n",
    "years = [2005, 2006, 2007, 2008, 2009, 2010, 2011, 2012, 2013, 2014, 2015, 2016, 2017, 2018, 2019]\n",
    "population = [35278768, 36457549, 36553215, 36756666, 36961664, 37349363, 37691912, 38041430, 38332521, 38802500, 39144818, 39250017, 39536653, 39557045, 39512223]\n",
    "income = [53629, 56645, 59948, 61021, 58931, 57708, 57287, 58328, 60190, 61933, 64500, 67739, 71805, 75277, 80440]\n",
    "\n",
    "# Create figure and axis\n",
    "fig, ax1 = plt.subplots()\n",
    "\n",
    "# Line plot for population\n",
    "ax1.plot(years, population, color='blue')\n",
    "ax1.set_xlabel('Year')\n",
    "ax1.set_ylabel('Population', color='blue')\n",
    "ax1.tick_params(axis='y', labelcolor='blue')\n",
    "\n",
    "# Bar or Line plot for income on another axis\n",
    "ax2 = ax1.twinx()  \n",
    "ax2.plot(years, income, color='red')  # change this line to ax2.bar(years, income, color='red') if bar representation is desired\n",
    "ax2.set_ylabel('Median Household Income ($)', color='red')\n",
    "ax2.tick_params(axis='y', labelcolor='red')\n",
    "\n",
    "# Set title\n",
    "plt.title('CA Population and Median Household Income')\n",
    "\n",
    "# Show plot\n",
    "plt.show()"
   ]
  },
  {
   "cell_type": "markdown",
   "id": "a0e544f7-6539-47dd-9731-3a2d2968db97",
   "metadata": {},
   "source": [
    "This graph shows that between 2005 and 2019, California's population and median household income both increased steadily, though not at the same pace. Population (blue) grew gradually throughout the period, while median household income(red) fluctuated slightly around 2008–2012 before rising sharply after 2013, indicating strong economic recovery and growth."
   ]
  },
  {
   "cell_type": "markdown",
   "id": "fdc595e0-9c93-43e1-85ac-dc56916a08b8",
   "metadata": {},
   "source": [
    "## Q3 - Student Defined Question"
   ]
  },
  {
   "cell_type": "markdown",
   "id": "78bb0cb8-fd11-478c-b41a-92d42c5aa33f",
   "metadata": {},
   "source": [
    "decade growth percentage"
   ]
  },
  {
   "cell_type": "code",
   "execution_count": 33,
   "id": "4a3f2dd2-57df-40fd-aa3d-baf49e0d93ec",
   "metadata": {},
   "outputs": [],
   "source": [
    "q3_sql = \"\"\"\n",
    "WITH decade_pop AS (\n",
    "    SELECT\n",
    "        (year / 10) * 10 AS decade,\n",
    "        FIRST_VALUE(pop) OVER (PARTITION BY (year / 10) * 10 ORDER BY year) AS start_pop,\n",
    "        LAST_VALUE(pop) OVER (PARTITION BY (year / 10) * 10 ORDER BY year\n",
    "                              ROWS BETWEEN UNBOUNDED PRECEDING AND UNBOUNDED FOLLOWING) AS end_pop\n",
    "    FROM population\n",
    "    WHERE fips = '06'\n",
    ")\n",
    "SELECT DISTINCT\n",
    "    decade,\n",
    "    ROUND(((end_pop - start_pop) / start_pop::numeric) * 100, 2) AS decade_growth_percent\n",
    "FROM decade_pop\n",
    "ORDER BY decade;\n",
    "\n",
    "\"\"\""
   ]
  },
  {
   "cell_type": "code",
   "execution_count": 46,
   "id": "7d990118-1901-4104-bb08-f76773ad0a47",
   "metadata": {},
   "outputs": [
    {
     "name": "stderr",
     "output_type": "stream",
     "text": [
      "/tmp/ipykernel_7366/2998452085.py:3: UserWarning: pandas only supports SQLAlchemy connectable (engine/connection) or database string URI or sqlite3 DBAPI2 connection. Other DBAPI2 objects are not tested. Please consider using SQLAlchemy.\n",
      "  q3_df = pd.read_sql(q3_sql, con=conn)\n"
     ]
    },
    {
     "data": {
      "text/html": [
       "<div>\n",
       "<style scoped>\n",
       "    .dataframe tbody tr th:only-of-type {\n",
       "        vertical-align: middle;\n",
       "    }\n",
       "\n",
       "    .dataframe tbody tr th {\n",
       "        vertical-align: top;\n",
       "    }\n",
       "\n",
       "    .dataframe thead th {\n",
       "        text-align: right;\n",
       "    }\n",
       "</style>\n",
       "<table border=\"1\" class=\"dataframe\">\n",
       "  <thead>\n",
       "    <tr style=\"text-align: right;\">\n",
       "      <th></th>\n",
       "      <th>decade</th>\n",
       "      <th>decade_growth_percent</th>\n",
       "    </tr>\n",
       "  </thead>\n",
       "  <tbody>\n",
       "    <tr>\n",
       "      <th>0</th>\n",
       "      <td>2000</td>\n",
       "      <td>4.77</td>\n",
       "    </tr>\n",
       "    <tr>\n",
       "      <th>1</th>\n",
       "      <td>2010</td>\n",
       "      <td>5.79</td>\n",
       "    </tr>\n",
       "  </tbody>\n",
       "</table>\n",
       "</div>"
      ],
      "text/plain": [
       "   decade  decade_growth_percent\n",
       "0    2000                   4.77\n",
       "1    2010                   5.79"
      ]
     },
     "execution_count": 46,
     "metadata": {},
     "output_type": "execute_result"
    }
   ],
   "source": [
    "import pandas as pd\n",
    "\n",
    "q3_df = pd.read_sql(q3_sql, con=conn)\n",
    "q3_df.head() #show the top 5 rows"
   ]
  },
  {
   "cell_type": "code",
   "execution_count": 47,
   "id": "b554f484-98f0-4624-8928-c7a4520c4438",
   "metadata": {},
   "outputs": [
    {
     "data": {
      "text/html": [
       "AI generated code inserted below &#11015;&#65039;"
      ],
      "text/plain": [
       "<IPython.core.display.HTML object>"
      ]
     },
     "execution_count": 47,
     "metadata": {
      "text/html": {
       "jupyter_ai": {
        "model_id": "gpt-4",
        "provider_id": "openai-chat"
       }
      }
     },
     "output_type": "execute_result"
    }
   ],
   "source": [
    "%%ai gpt4 -f code\n",
    "use data in the dataframe of {q3_df}, create a bar chart.\n",
    "    X-axis = decade\n",
    "    Y-axis = decade growth rate\n",
    "    Chart must include the CA state name in the title"
   ]
  },
  {
   "cell_type": "code",
   "execution_count": 48,
   "id": "bb05fad4-04ce-48d6-8699-6ad087e76ec8",
   "metadata": {},
   "outputs": [
    {
     "data": {
      "image/png": "[encoded data removed]",
      "text/plain": [
       "<Figure size 640x480 with 1 Axes>"
      ]
     },
     "metadata": {},
     "output_type": "display_data"
    }
   ],
   "source": [
    "import matplotlib.pyplot as plt\n",
    "import pandas as pd\n",
    "\n",
    "# Assuming the input data is stored in a dataframe named 'df'\n",
    "df = pd.DataFrame({'decade': [2000, 2010], 'decade_growth_percent': [4.77, 5.79]})\n",
    "\n",
    "plt.bar(df['decade'], df['decade_growth_percent'])\n",
    "plt.title('Decade Growth Rate in CA state')\n",
    "plt.xlabel('Decade')\n",
    "plt.ylabel('Decade Growth Rate')\n",
    "plt.show()"
   ]
  },
  {
   "cell_type": "markdown",
   "id": "5f57011c-24c0-4301-bb57-86fae1c91dcc",
   "metadata": {},
   "source": [
    "Over a decade, from 2000 to 2010, there was growth. This growth was not dramatic, but should be noted when looking at CA as a state. "
   ]
  }
 ],
 "metadata": {
  "kernelspec": {
   "display_name": "conda_python3",
   "language": "python",
   "name": "conda_python3"
  },
  "language_info": {
   "codemirror_mode": {
    "name": "ipython",
    "version": 3
   },
   "file_extension": ".py",
   "mimetype": "text/x-python",
   "name": "python",
   "nbconvert_exporter": "python",
   "pygments_lexer": "ipython3",
   "version": "3.10.18"
  }
 },
 "nbformat": 4,
 "nbformat_minor": 5
}
